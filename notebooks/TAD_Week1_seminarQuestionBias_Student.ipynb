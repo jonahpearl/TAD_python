{
 "cells": [
  {
   "cell_type": "markdown",
   "metadata": {
    "collapsed": true,
    "id": "EnDFpwhglgxF",
    "pycharm": {
     "name": "#%% md\n"
    }
   },
   "source": [
    "## Do women ask more questions at a seminar if a woman asks the 1st question?\n",
    "\n",
    "Prompted by a tweet from Duncan Green referring to a post on his blog:\n",
    "http://oxfamblogs.org/fp2p/how-to-stop-men-asking-all-the-questions-in-seminars-its-really-easy/\n",
    "\n",
    "Original source for data:\n",
    "\"Women’s visibility in academic seminars: women ask fewer questions than\n",
    "men,\" Alecia Carter, Alyssa Croft, Dieter Lukas, Gillian Sandstrom\n",
    "\n",
    "RTB wrote it, 14 December 2017. RTB revised for TAD answers, original name was sexQuestionDemo.m. Translated to Python by RTB and EB August 2021. JP added vectorized approach Jun 2022.\n",
    "\n",
    "Concepts covered:\n",
    "1. histograms for summarizing data\n",
    "2. difference between 'sig' and 'not sig' is not itself nec. stat. sig.\n",
    "3. d-prime as a measure of effect size\n",
    "4. simulating data under H0\n",
    "5. detecting and removing sorting biases\n",
    "6. extracting p-values from simulations"
   ]
  },
  {
   "cell_type": "markdown",
   "metadata": {
    "id": "9gz2vIbNlgxJ",
    "pycharm": {
     "name": "#%% md\n"
    }
   },
   "source": [
    "## Set up the environment\n"
   ]
  },
  {
   "cell_type": "code",
   "execution_count": null,
   "metadata": {
    "colab": {
     "base_uri": "https://localhost:8080/"
    },
    "executionInfo": {
     "elapsed": 539,
     "status": "ok",
     "timestamp": 1630525328608,
     "user": {
      "displayName": "Ella Batty",
      "photoUrl": "",
      "userId": "17939168843900203228"
     },
     "user_tz": 240
    },
    "id": "YSlm0nzzlgxK",
    "outputId": "d6445168-e180-4740-83ec-2f4153bf0fb5",
    "pycharm": {
     "name": "#%%\n"
    }
   },
   "outputs": [],
   "source": [
    "import numpy as np\n",
    "pd.plotting.register_matplotlib_converters()\n",
    "import matplotlib.pyplot as plt\n",
    "%matplotlib inline\n",
    "import scipy.stats as stats\n",
    "print(\"Setup Complete\")"
   ]
  },
  {
   "cell_type": "markdown",
   "metadata": {
    "id": "3sCCMgVllgxL"
   },
   "source": [
    "## Load data\n",
    "\n",
    "Each datum represents a value derived from one academic seminar. Values\n",
    "are percentage of questions from women minus the percentage of seminar\n",
    "attendees who were women. Positive values indicate that women asked more\n",
    "questions; negative values indicate that men asked more questions. \n",
    "\n",
    "NOTE: I reverse-engineered the raw data based on the graphic in the piece\n",
    "by The Economist, so the numbers might not be exactly correct"
   ]
  },
  {
   "cell_type": "code",
   "execution_count": null,
   "metadata": {
    "colab": {
     "base_uri": "https://localhost:8080/",
     "height": 204
    },
    "executionInfo": {
     "elapsed": 18,
     "status": "ok",
     "timestamp": 1630525328608,
     "user": {
      "displayName": "Ella Batty",
      "photoUrl": "",
      "userId": "17939168843900203228"
     },
     "user_tz": 240
    },
    "id": "FrPFpTcDlgxM",
    "outputId": "551c60f1-4154-4218-a489-a6f605cc504e",
    "pycharm": {
     "name": "#%%\n"
    }
   },
   "outputs": [],
   "source": [
    "woman_first = np.array([60,44,36,36,28,28,28,28,28,24,20,16,16,12,8,8,8,8,8,8,8,8,4,4,4,4,4,4,0,0,0,0,0,0,0,-4,-4,-4,-4,-4,-4,-8,-8,-8,-8,-8,-12,-12,-12,-12,-12,-12,-12,-12,-12,-16,-16,-16,-16,-16,-16,-16,-16,-16,-20,-20,-20,-20,-20,-20,-20,-20,-24,-24,-28,-32,-36,-40])\n",
    "\n",
    "man_first = np.array([24,24,20,20,16,16,16,16,16,16,16,12,8,4,4,4,0,0,0,0,0,-4,-4,-4,-4,-4,-4,-4,-4,-4,-8,-8,-8,-8,-8,-8,-12,-12,-12,-12,-12,-12,-12,-12,-12,-12,-12,-12,-12,-12,-12,-16,-16,-16,-16,-20,-20,-20,-20,-20,-20,-20,-24,-24,-24,-24,-24,-24,-24,-24,-24,-24,-24,-24,-24,-24,-24,-24,-24,-24,-24,-24,-24,-24,-28,-28,-28,-28,-28,-28,-28,-28,-28,-32,-32,-32,-32,-32,-32,-32,-32,-32,-32,-36,-36,-36,-36,-36,-36,-36,-36,-36,-36,-40,-40,-40,-40,-40,-40,-40,-40,-40,-40,-40,-44,-44,-44,-44,-44,-44,-44,-44,-44,-44,-44,-44,-48,-48,-48,-48,-48,-48,-48,-48,-52,-52,-52,-52,-52,-52,-52,-56,-56,-56,-56,-56,-56,-56,-56,-60,-60,-60,-60,-64,-64,-64,-64,-68,-72,-72,-76]).astype('int')\n",
    "\n",
    "percentage_questions = np.concatenate((woman_first, man_first))\n",
    "gender_indicators = np.concatenate([np.repeat(0, len(woman_first)), np.repeat(1, len(man_first))])\n",
    "\n",
    "# Create a matrix to hold all the data\n",
    "data = np.array([percentage_questions, gender_indicators]).T\n",
    "\n",
    "# Create some variables so we don't have to remember what was where\n",
    "percentage_col = 0\n",
    "gender_col = 1\n",
    "WOMAN = 0\n",
    "MAN = 1\n",
    "\n",
    "# Show top 5 rows of data\n",
    "data[:5, :]"
   ]
  },
  {
   "cell_type": "code",
   "execution_count": null,
   "metadata": {
    "colab": {
     "base_uri": "https://localhost:8080/"
    },
    "executionInfo": {
     "elapsed": 17,
     "status": "ok",
     "timestamp": 1630525328609,
     "user": {
      "displayName": "Ella Batty",
      "photoUrl": "",
      "userId": "17939168843900203228"
     },
     "user_tz": 240
    },
    "id": "khWjwtkbruAV",
    "outputId": "aa57020c-63bb-4f56-bb84-380fd73ec905"
   },
   "outputs": [],
   "source": [
    "# Report number of seminars with woman first vs man first\n",
    "print(f'Men first: {np.sum(data[:, gender_col] == MAN)}')\n",
    "print(f'Woman first: {np.sum(data[:, gender_col] == WOMAN)}')"
   ]
  },
  {
   "cell_type": "markdown",
   "metadata": {
    "id": "ZkN1Qerk35WQ"
   },
   "source": [
    "To get data for the seminars where a woman asked the first question, you could do:"
   ]
  },
  {
   "cell_type": "code",
   "execution_count": null,
   "metadata": {
    "colab": {
     "base_uri": "https://localhost:8080/"
    },
    "executionInfo": {
     "elapsed": 14,
     "status": "ok",
     "timestamp": 1630525328609,
     "user": {
      "displayName": "Ella Batty",
      "photoUrl": "",
      "userId": "17939168843900203228"
     },
     "user_tz": 240
    },
    "id": "eK3VcaqO36W2",
    "outputId": "938bdbc6-1893-4343-e055-d209823a2a7e"
   },
   "outputs": [],
   "source": [
    "woman_rows_bool = data[:, gender_col]==WOMAN\n",
    "woman_first_mat = data[woman_rows_bool, :]\n",
    "woman_first_mat[:5, :]"
   ]
  },
  {
   "cell_type": "markdown",
   "metadata": {},
   "source": [
    "And similarly, for men:"
   ]
  },
  {
   "cell_type": "code",
   "execution_count": null,
   "metadata": {},
   "outputs": [],
   "source": [
    "man_first_mat = data[data[:,gender_col]==MAN, :]  # note that we can actually nest the indexing expression like this -- no need for two separate lines. But of course, it's harder to understand this way.\n",
    "man_first_mat[:5, :]"
   ]
  },
  {
   "cell_type": "markdown",
   "metadata": {},
   "source": [
    "And you can get summary statistics:"
   ]
  },
  {
   "cell_type": "code",
   "execution_count": null,
   "metadata": {},
   "outputs": [],
   "source": [
    "woman_first_mat[:, percentage_col].mean(), man_first_mat[:, percentage_col].mean()"
   ]
  },
  {
   "cell_type": "markdown",
   "metadata": {},
   "source": [
    "Of course, we could've just used the raw data..."
   ]
  },
  {
   "cell_type": "code",
   "execution_count": null,
   "metadata": {},
   "outputs": [],
   "source": [
    "woman_first.mean(), man_first.mean()"
   ]
  },
  {
   "cell_type": "markdown",
   "metadata": {},
   "source": [
    "... but usually the \"raw\" data will come in matrix form, so it's good practice to work with that format."
   ]
  },
  {
   "cell_type": "markdown",
   "metadata": {
    "id": "KY494Qn7lgxM"
   },
   "source": [
    "## Plot data"
   ]
  },
  {
   "cell_type": "code",
   "execution_count": null,
   "metadata": {
    "colab": {
     "base_uri": "https://localhost:8080/",
     "height": 376
    },
    "executionInfo": {
     "elapsed": 611,
     "status": "ok",
     "timestamp": 1630525329447,
     "user": {
      "displayName": "Ella Batty",
      "photoUrl": "",
      "userId": "17939168843900203228"
     },
     "user_tz": 240
    },
    "id": "A7q0R3for3Jy",
    "outputId": "3203dc65-e94a-401a-abaf-b797436c8fd5"
   },
   "outputs": [],
   "source": [
    "# Plot histogram of data\n",
    "plt.figure(figsize=(10,5))\n",
    "bins = np.arange(-100,100,4)\n",
    "\n",
    "plt.hist(woman_first, bins=bins, alpha=0.5, label='Woman 1st')\n",
    "plt.hist(man_first, bins=bins, alpha=0.5, label='Man 1st')\n",
    "\n",
    "plt.xlabel('Percentage of questions asked by women minus \\n percentage of attendees who were women (% points)')\n",
    "plt.ylabel('Number of seminars')\n",
    "plt.title('University seminars, relative share of questions asked by women')\n",
    "\n",
    "plt.legend()"
   ]
  },
  {
   "cell_type": "markdown",
   "metadata": {},
   "source": [
    "## Check for equal variances\n",
    "Many of the statistical tests that we'll perform on distributions (in this case, t-tests) assume that the underlying populations have the same variance. We can test for this by comparing the sample variances with an F-test -- essentially testing how close the ratio of the sample variances is to 1."
   ]
  },
  {
   "cell_type": "code",
   "execution_count": null,
   "metadata": {},
   "outputs": [],
   "source": [
    "# Compute F statistic\n",
    "F = np.var(woman_first_mat[:,percentage_col], ddof=1) / np.var(man_first_mat[:,percentage_col], ddof=1)\n",
    "\n",
    "# Get number of data points\n",
    "n_woman_first = woman_first_mat.shape[0]\n",
    "n_man_first = man_first_mat.shape[0]\n",
    "\n",
    "# Compute p value\n",
    "p_value = 2 * min([stats.f.cdf(F, n_woman_first - 1 , n_man_first - 1), 1 - stats.f.cdf(F, n_woman_first - 1 , n_man_first - 1)])\n",
    "\n",
    "print(f'The p-value is {p_value:.4f}')"
   ]
  },
  {
   "cell_type": "markdown",
   "metadata": {
    "id": "nfIA_H8K9s9d"
   },
   "source": [
    "We fail to reject H0 of equal variances, so we can proceed as if they are equal.\n",
    "\n",
    "\n",
    "https://en.wikipedia.org/wiki/Sensitivity_index"
   ]
  },
  {
   "cell_type": "markdown",
   "metadata": {
    "id": "j9Jdl7Q6lgxN",
    "pycharm": {
     "name": "#%% md\n"
    }
   },
   "source": [
    "## Do women tend to ask more questions when a woman asks the first question?\n",
    "\n",
    "NOTE: Here is the original tweet from Duncan Green:\n",
    "In academic seminars, ‘Men are > 2.5 times more likely to pose questions to the speakers. This male skew was observable only in those seminars in which a man asked first question. When a woman did so, gender split disappeared’. CHAIRS PLEASE NOTE – FIRST Q TO A WOMAN – EVERY TIME.’\n",
    "\n",
    "It was based on this story he had read in The Economist (https://www.economist.com/news/science-and-technology/21732082-there-easy-fix-women-ask-fewer-questions-men-seminars)\n",
    "Print edition | Science and technology\n",
    "December 7, 2017\n",
    "\n",
    "\"ONE theory to explain the low share of women in senior academic jobs is that they have less self-confidence than men. This hypothesis is supported by data in a new working paper, by a team of researchers from five universities in America and Europe. In this study, observers counted the attendees, and the questions they asked, at 247 departmental talks and seminars in biology, psychology and philosophy that took place at 35 universities in ten countries. On average, half of each seminar’s audience was female. Men, however, were over 2.5 times more likely to pose questions to the speakers—an action that may be viewed (rightly or wrongly) as a sign of greater competence.\n",
    "\n",
    "This male skew in question-asking was observable, however, only in those seminars in which a man asked the first question. When a woman did so, the gender split in question-asking was, on average, proportional to that of the audience. Simply handing the microphone to a woman rather than a man when the floor is opened for questions may make a difference, however small, to one of academia’s most intractable problems.\"\n",
    "\n",
    "This is a classic example of the fallacy that Gelman & Stern write about: The Difference Between “Significant” and “Not Significant” is not Itself Statistically Significant\n",
    "\n",
    "In other words, what the blogger did was two t-tests, one of which showed that the man-first data are highly statistically significant from 0. That is, men ask significantly more questions when a man asks the 1st Q."
   ]
  },
  {
   "cell_type": "code",
   "execution_count": null,
   "metadata": {},
   "outputs": [],
   "source": [
    "_, p_man_first = stats.ttest_1samp(man_first, popmean = 0)\n",
    "print(f'The p-value of the test using data from man first seminars is {p_man_first:.2e}')\n",
    "\n",
    "_, p_woman_first = stats.ttest_1samp(woman_first, popmean = 0)\n",
    "print(f'The p-value of the test using data from woman first seminars is {p_woman_first:.2f}')"
   ]
  },
  {
   "cell_type": "markdown",
   "metadata": {
    "id": "Zhp-VlcalgxP",
    "pycharm": {
     "name": "#%% md\n"
    }
   },
   "source": [
    "But this does not necessarily mean that the two groups are significantly different FROM EACH OTHER. This is very common statistical error that is beautifully described in a classic paper:\n",
    "\n",
    "Gelman A & Stern H (2006) \"The Difference Between 'Significant' and 'Not Significant' is not Itself Statistically Significant\", The American Statistician (2006) 60:328-331\n",
    "\n",
    "To establish a difference between the two groups, you need to directly compare them. A simple way is with a 2-sample t-test:"
   ]
  },
  {
   "cell_type": "code",
   "execution_count": null,
   "metadata": {},
   "outputs": [],
   "source": [
    "t_statistic_two_sample, p_two_sample = stats.ttest_ind(woman_first, man_first)\n",
    "\n",
    "print(f'The t-statistic of the 2 sample test is {t_statistic_two_sample:.2f}')\n",
    "print(f'The p-value of the 2 sample test is {p_two_sample:.2e}')"
   ]
  },
  {
   "cell_type": "markdown",
   "metadata": {
    "id": "EvxOWo01BcO2"
   },
   "source": [
    "Note that the t-statistic is also a kind of\n",
    "effect size. It is normalized by a pooled estimate of the s.e.m., so it\n",
    "will be larger than our d-prime, which is normalized by the pooled\n",
    "estimate of the s.d.\n",
    "\n",
    "Or, if we suspect the data are not normally distributed, we can use a\n",
    "non-parametric test based on the ranks of the data. This is known as the\n",
    "Wilcoxon Rank-Sum Test (equivalent to the Mann-Whitney U Test).\n"
   ]
  },
  {
   "cell_type": "code",
   "execution_count": null,
   "metadata": {
    "colab": {
     "base_uri": "https://localhost:8080/"
    },
    "executionInfo": {
     "elapsed": 15,
     "status": "ok",
     "timestamp": 1630525329451,
     "user": {
      "displayName": "Ella Batty",
      "photoUrl": "",
      "userId": "17939168843900203228"
     },
     "user_tz": 240
    },
    "id": "BnqQKkDCBydd",
    "outputId": "04e88835-2a83-40de-fa58-704b8d9b8b11"
   },
   "outputs": [],
   "source": [
    "stats.ranksums(woman_first, man_first)"
   ]
  },
  {
   "cell_type": "markdown",
   "metadata": {
    "id": "uSxPMPCoC-ZF"
   },
   "source": [
    "In any case, there does appear to be a very real effect of who asks the\n",
    "first question. So the conclusion is correct, even though it was\n",
    "originally based on a faulty comparison.\n"
   ]
  },
  {
   "cell_type": "markdown",
   "metadata": {
    "id": "sI6-3zo7lgxQ"
   },
   "source": [
    "## Bias produced by the way the data were sorted?\n",
    "Note that there is a possible source of bias in the way the data\n",
    "have been stratified (a fancy statistical word for \"sorted\"). If there are a relatively small number of questions asked at any given seminar, then when you divide the data into two subsets where the sex of the 1st question asker is fixed, you create a bias in that direction. We can simlulate this to see how big the bias effect is.\n",
    "\n",
    "**Keys to the simulation (answer these before you write any code!)** \n",
    "\n",
    "Under what hypothesis should we perform our simulation? \n",
    "\n",
    "What is H0?\n",
    "\n",
    "(In what follows, we make the simplifying assumption that all seminars have the same number of questions. See the next section for relaxing this assumption.)\n",
    "\n",
    "******"
   ]
  },
  {
   "cell_type": "markdown",
   "metadata": {},
   "source": [
    "This is a helper function to plot our simulation results, used later."
   ]
  },
  {
   "cell_type": "code",
   "execution_count": null,
   "metadata": {},
   "outputs": [],
   "source": [
    "def plot_simulation_results(all_effect_sizes, real_effect_size, num_seminars, num_q_per_seminar, num_sims, alpha=0.05):\n",
    "    \n",
    "    # Plot results\n",
    "    plt.hist(all_effect_sizes, bins=np.arange(all_effect_sizes.min(), all_effect_sizes.max(), 0.5))\n",
    "    \n",
    "    # Draw a solid black line for the actual effect size\n",
    "    plt.vlines(real_effect_size, 0, plt.ylim()[1], 'k')\n",
    "    \n",
    "    # Label plot\n",
    "    plt.xlabel('Effect size due to sorting bias')\n",
    "    plt.ylabel('# of simulations')\n",
    "    plt.title(f'# of seminars: {num_seminars}, Questions per seminar: {num_q_per_seminar}')\n",
    "    \n",
    "    # Plot CIs\n",
    "    idx_hi = np.ceil(num_sims * (1 - alpha / 2)).astype('int')\n",
    "    idx_lo = np.floor(num_sims * (alpha / 2)).astype('int')\n",
    "    sorted_effect_sizes = np.sort(all_effect_sizes)\n",
    "    sim_CI = [sorted_effect_sizes[idx_lo], sorted_effect_sizes[idx_hi]]\n",
    "    plt.vlines(sim_CI, 0, plt.ylim()[1], colors='b', linestyles='--')\n",
    "    \n",
    "    # One-tailed p-value\n",
    "    p_value_1 = np.sum(all_effect_sizes >= real_effect_size) / num_sims\n",
    "\n",
    "    # Why do I do this? Can a p-value ever be 0?\n",
    "    if p_value_1 == 0:\n",
    "        p_value_1 = 1 / (num_sims + 1)\n",
    "\n",
    "    # Print p-value on plot\n",
    "    plt.annotate(f'p = {p_value_1:.4f}', (.2, .8), xycoords = 'figure fraction')\n",
    "    "
   ]
  },
  {
   "cell_type": "markdown",
   "metadata": {},
   "source": [
    "NB: below, we will set the random number generator seed to 12. This ensures that we will all get the exact same answer (provided we run the simulation the same number of times). You would ordinarily NOT do this. Why?"
   ]
  },
  {
   "cell_type": "code",
   "execution_count": null,
   "metadata": {
    "scrolled": true
   },
   "outputs": [],
   "source": [
    "# Set random seed\n",
    "np.random.seed(12)\n",
    "\n",
    "# Simulation parameters\n",
    "num_q_per_seminar = 6\n",
    "num_seminars = 249\n",
    "num_simulations = int(1e4)\n",
    "fix_bias = False\n",
    "\n",
    "# Variables to hold the results of our simulations\n",
    "all_effect_sizes = np.zeros((num_simulations,))\n",
    "all_d_primes = np.zeros((num_simulations,))\n",
    "\n",
    "# TODO: simulate the experiment num_simulations times!\n",
    "for iSim in range(num_simulations):\n",
    "\n",
    "    # Generate data for each simulated seminar\n",
    "    ...\n",
    "        \n",
    "    # Collect the statistics of interest (ie who asked first question, and how many questions women asked)\n",
    "    ...\n",
    "\n",
    "    # Calculate and store the effect size for this simulation\n",
    "    all_effect_sizes[iSim] = ...\n",
    "    \n",
    "# Plot the results\n",
    "plot_simulation_results(all_effect_sizes, 25, num_seminars, num_q_per_seminar, num_simulations)\n"
   ]
  },
  {
   "cell_type": "markdown",
   "metadata": {
    "id": "lVu5hEwJncz5"
   },
   "source": [
    "**QUESTION (Q1)**: What is the effect size the authors actually obtained?\n",
    "\n",
    "@clarify: effect size is ambiguous, is there a specific term for diff of means without normalizing?"
   ]
  },
  {
   "cell_type": "code",
   "execution_count": null,
   "metadata": {
    "colab": {
     "base_uri": "https://localhost:8080/"
    },
    "executionInfo": {
     "elapsed": 180,
     "status": "ok",
     "timestamp": 1630525329619,
     "user": {
      "displayName": "Ella Batty",
      "photoUrl": "",
      "userId": "17939168843900203228"
     },
     "user_tz": 240
    },
    "id": "xD-lu399nfjQ",
    "outputId": "199ec31c-5611-44d9-8dd6-09b0f5e433fe"
   },
   "outputs": [],
   "source": [
    "# Calculate the effect size the authors actually obtained\n",
    "real_effect_size = ...\n",
    "\n",
    "print(real_effect_size)"
   ]
  },
  {
   "cell_type": "markdown",
   "metadata": {
    "id": "qJEd8Z35tVvA"
   },
   "source": [
    "\n",
    "**QUESTION (Q2)**: What is the mean effect size, rounded to the nearest whole\n",
    "number, if there are only 3 questions asked at each seminar?\n",
    "\n",
    "\n",
    "**QUESTION (Q3)**: What if there are 4 questions per seminar?\n",
    "\n",
    "\n",
    "**QUESTION (Q4)**: What if there are 5 questions per seminar?\n",
    "\n",
    "\n",
    "**QUESTION (Q5)**: Do you see a trend? Try smaller values for `num_q_per_seminar` and\n",
    "think about what is going on.\n",
    "\n",
    "\n",
    "**QUESTION (Q6)**: So then why do the simulation? What does it add?\n",
    "\n",
    "\n",
    "**QUESTION (Q7)**: What would happen to our distribution of simulated effect sizes if there\n",
    "were 127 seminars instead of 249? Simulate it and compare!\n",
    "\n",
    "\n",
    "**QUESTION (Q8)**: What is the smallest number of questions per seminar for\n",
    "which you would be 95% confident that the actual effect size obtained\n",
    "(25) was not purely do to a sorting bias? Hint: For a given `num_q_per_seminar`,\n",
    "look at the distribution of your simulated values, and see where the\n",
    "actual effect size obtained falls within this distribution.\n",
    "\n",
    "\n",
    "**QUESTION (Q9)**: How could you eliminate this bias?\n"
   ]
  },
  {
   "cell_type": "markdown",
   "metadata": {
    "id": "3QpvJ1H7yf_0"
   },
   "source": [
    "## Bonus: Variable number of questions per seminar\n",
    "\n",
    "Let's suppose we don't want to assume that there were the exact same\n",
    "number of questions asked at each seminar. How could we build this into\n",
    "our simulation?\n",
    "\n",
    "Maybe we just know that, on average, there were m questions per seminar.\n",
    "Since we can assume that seminars have no memory (i.e. for how many\n",
    "questions were asked at the previous seminars), we can just draw values\n",
    "from a Poisson distribution with lambda set to the mean number of\n",
    "questions over all seminars. That is, for each round of our simulation, use 'np.random.poisson' to generate the number of questions at each seminar, and then proceed as before. Your code will likely be a little bit more complicated, but the principle is the same."
   ]
  },
  {
   "cell_type": "code",
   "execution_count": null,
   "metadata": {},
   "outputs": [],
   "source": [
    "# Set random seed\n",
    "np.random.seed(12)\n",
    "\n",
    "# Simulation parameters\n",
    "num_q_per_seminar = 6\n",
    "num_seminars = 249\n",
    "num_simulations = int(1e4)\n",
    "fix_bias = False\n",
    "\n",
    "# Variables to hold the results of our simulations\n",
    "all_effect_sizes = np.zeros((num_simulations,))\n",
    "\n",
    "# Loop over simulations\n",
    "for iSim in range(num_simulations):\n",
    "\n",
    "    # Generate data for each simulated seminar\n",
    "    ...\n",
    "        \n",
    "    # Collect the statistics of interest (ie who asked first question, and how many questions women asked)\n",
    "    ...\n",
    "\n",
    "    # Calculate and store the effect size for this simulation\n",
    "    all_effect_sizes[iSim] = ...\n",
    "    \n",
    "# Plot the results\n",
    "plot_simulation_results(all_effect_sizes, 25, num_seminars, num_q_per_seminar, num_simulations)\n"
   ]
  },
  {
   "cell_type": "markdown",
   "metadata": {
    "id": "d0KY9tUB6ed1"
   },
   "source": [
    "This seems to have a very profound effect on our simulation. Did we make\n",
    "a mistake? To start to get some insight into this question, let's look at\n",
    "the distribution of the actual number of questions asked"
   ]
  },
  {
   "cell_type": "code",
   "execution_count": null,
   "metadata": {
    "colab": {
     "base_uri": "https://localhost:8080/",
     "height": 293
    },
    "executionInfo": {
     "elapsed": 697,
     "status": "ok",
     "timestamp": 1630525332841,
     "user": {
      "displayName": "Ella Batty",
      "photoUrl": "",
      "userId": "17939168843900203228"
     },
     "user_tz": 240
    },
    "id": "Jmtaj-p40r5M",
    "outputId": "cf1e58ff-f8d8-42c7-f464-18ea71b7ce36"
   },
   "outputs": [],
   "source": [
    "# TODO: plot a histogram showing number of questions asked at each seminar from the simulation.\n",
    "# (If you didn't save those data, go back and re-run your simulation with an array to save them!)"
   ]
  },
  {
   "cell_type": "markdown",
   "metadata": {
    "id": "ZemPgpZ78iPD"
   },
   "source": [
    "Recall the formula we derived for the mean bias as a function of the number of questions asked per seminar:\n",
    "\n",
    "`mean_bias_effect = 100 / num_q_per_seminar`\n",
    "\n",
    "Does this account for the increase in bias in this simulation? Why?"
   ]
  }
 ],
 "metadata": {
  "colab": {
   "collapsed_sections": [],
   "name": "seminarQuestionBias_Solutions_tidy.ipynb",
   "provenance": [
    {
     "file_id": "1fc2IVBjnLBS8geCs-q5QBVH1yeLLUHBy",
     "timestamp": 1630523498661
    },
    {
     "file_id": "1ua8uM2_EUzqs5Ys8lSeQ7TOLBfnaMEm2",
     "timestamp": 1630258246352
    }
   ]
  },
  "kernelspec": {
   "display_name": "Python 3 (ipykernel)",
   "language": "python",
   "name": "python3"
  },
  "language_info": {
   "codemirror_mode": {
    "name": "ipython",
    "version": 3
   },
   "file_extension": ".py",
   "mimetype": "text/x-python",
   "name": "python",
   "nbconvert_exporter": "python",
   "pygments_lexer": "ipython3",
   "version": "3.9.7"
  }
 },
 "nbformat": 4,
 "nbformat_minor": 1
}
